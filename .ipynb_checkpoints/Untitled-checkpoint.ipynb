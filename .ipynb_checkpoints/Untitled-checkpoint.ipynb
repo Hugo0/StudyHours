{
 "cells": [
  {
   "cell_type": "code",
   "execution_count": 2,
   "metadata": {},
   "outputs": [
    {
     "ename": "NameError",
     "evalue": "name 'dayofweek_map' is not defined",
     "output_type": "error",
     "traceback": [
      "\u001b[1;31m---------------------------------------------------------------------------\u001b[0m",
      "\u001b[1;31mNameError\u001b[0m                                 Traceback (most recent call last)",
      "\u001b[1;32m<ipython-input-2-92f17bfb67bd>\u001b[0m in \u001b[0;36m<module>\u001b[1;34m()\u001b[0m\n\u001b[0;32m      6\u001b[0m \u001b[0mstart_time\u001b[0m \u001b[1;33m=\u001b[0m \u001b[0mdatetime\u001b[0m\u001b[1;33m.\u001b[0m\u001b[0mdatetime\u001b[0m\u001b[1;33m.\u001b[0m\u001b[0mnow\u001b[0m\u001b[1;33m(\u001b[0m\u001b[1;33m)\u001b[0m\u001b[1;33m\u001b[0m\u001b[0m\n\u001b[0;32m      7\u001b[0m \u001b[0mstart_date\u001b[0m \u001b[1;33m=\u001b[0m \u001b[0mstart_time\u001b[0m\u001b[1;33m.\u001b[0m\u001b[0mdate\u001b[0m\u001b[1;33m(\u001b[0m\u001b[1;33m)\u001b[0m\u001b[1;33m\u001b[0m\u001b[0m\n\u001b[1;32m----> 8\u001b[1;33m \u001b[0mweekday\u001b[0m \u001b[1;33m=\u001b[0m \u001b[0mdayofweek_map\u001b[0m\u001b[1;33m[\u001b[0m\u001b[0mstart_time\u001b[0m\u001b[1;33m.\u001b[0m\u001b[0mweekday\u001b[0m\u001b[1;33m(\u001b[0m\u001b[1;33m)\u001b[0m\u001b[1;33m]\u001b[0m\u001b[1;33m\u001b[0m\u001b[0m\n\u001b[0m\u001b[0;32m      9\u001b[0m \u001b[1;33m\u001b[0m\u001b[0m\n\u001b[0;32m     10\u001b[0m \u001b[1;33m\u001b[0m\u001b[0m\n",
      "\u001b[1;31mNameError\u001b[0m: name 'dayofweek_map' is not defined"
     ]
    }
   ],
   "source": [
    "import tkinter\n",
    "import time\n",
    "import datetime\n",
    "import pandas as pd\n",
    "\n",
    "dayofweek_map = {\n",
    "    0 : 'monday',\n",
    "    1 : 'tuesday',\n",
    "    2 : 'wednesday',\n",
    "    3 : 'thursday',\n",
    "    4 : 'friday',\n",
    "    5 : 'saturday',\n",
    "    6 : 'sunday',\n",
    "}\n",
    "\n",
    "start_time = datetime.datetime.now()\n",
    "start_date = start_time.date()\n",
    "weekday = dayofweek_map[start_time.weekday()]\n",
    "\n",
    "\n",
    "last12 = pd.date_range(start=start_date - datetime.timedelta(days=12), end=start_date)\n",
    "columns = ['Date', 'Weekday', 'Hours Studied']\n",
    "\n",
    "try:\n",
    "    studyhours_df = pd.read_csv('data\\\\studyhours.csv')\n",
    "except:\n",
    "    index = last12\n",
    "    studyhours_df = pd.DataFrame(index=index, columns=columns)\n",
    "\n",
    "# # # # # # # # # # # # # # # # # # # # # # # # #\n",
    "# Program waits here until user stops studying  #\n",
    "time.sleep(5)                                   #\n",
    "# # # # # # # # # # # # # # # # # # # # # # # # #\n",
    "\n",
    "# measure the time spent studying\n",
    "end_time = datetime.datetime.now()\n",
    "duration = end_time - start_time\n",
    "\n",
    "# write the value to the dataframe\n",
    "studyhours_df.loc[start_date, 'Date'] = {'Weekday':weekday, 'Hours Studied':duration}\n",
    "\n",
    "studyhours_df.to_csv()\n",
    "\n",
    "print(studyhours_df)"
   ]
  },
  {
   "cell_type": "code",
   "execution_count": null,
   "metadata": {},
   "outputs": [],
   "source": []
  }
 ],
 "metadata": {
  "kernelspec": {
   "display_name": "Python 3",
   "language": "python",
   "name": "python3"
  },
  "language_info": {
   "codemirror_mode": {
    "name": "ipython",
    "version": 3
   },
   "file_extension": ".py",
   "mimetype": "text/x-python",
   "name": "python",
   "nbconvert_exporter": "python",
   "pygments_lexer": "ipython3",
   "version": "3.7.0"
  }
 },
 "nbformat": 4,
 "nbformat_minor": 2
}
